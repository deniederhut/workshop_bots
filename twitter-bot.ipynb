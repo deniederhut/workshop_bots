{
 "cells": [
  {
   "cell_type": "markdown",
   "metadata": {},
   "source": [
    "# Twitter Bots"
   ]
  },
  {
   "cell_type": "markdown",
   "metadata": {},
   "source": [
    "## Bots"
   ]
  },
  {
   "cell_type": "markdown",
   "metadata": {},
   "source": [
    "The W's.\n",
    "\n",
    "<strong>W</strong>hat, <strong>w</strong>hy, <strong>w</strong>hat, probably even ho<strong>w</strong>.\n",
    "\n",
    "What is a bot? Why would you want a bot? What can you do with it? How can you do it?"
   ]
  },
  {
   "cell_type": "markdown",
   "metadata": {},
   "source": [
    "## APIs"
   ]
  },
  {
   "cell_type": "markdown",
   "metadata": {},
   "source": [
    "An API is...."
   ]
  },
  {
   "cell_type": "markdown",
   "metadata": {},
   "source": [
    "## Twitter"
   ]
  },
  {
   "cell_type": "markdown",
   "metadata": {},
   "source": [
    "Why Twitter?"
   ]
  },
  {
   "cell_type": "markdown",
   "metadata": {},
   "source": [
    "### A Tweet"
   ]
  },
  {
   "cell_type": "markdown",
   "metadata": {},
   "source": [
    "Simple, right? 140 characters. Done."
   ]
  },
  {
   "cell_type": "markdown",
   "metadata": {},
   "source": [
    "#### Let's find out"
   ]
  },
  {
   "cell_type": "code",
   "execution_count": 1,
   "metadata": {
    "collapsed": false
   },
   "outputs": [],
   "source": [
    "import json\n",
    "\n",
    "json_data = open('data/first_tweet.json').read()\n",
    "a_tweet = json.loads(json_data)"
   ]
  },
  {
   "cell_type": "markdown",
   "metadata": {},
   "source": [
    "#### What you see"
   ]
  },
  {
   "cell_type": "code",
   "execution_count": 2,
   "metadata": {
    "collapsed": false
   },
   "outputs": [
    {
     "name": "stdout",
     "output_type": "stream",
     "text": [
      ".IPA rettiwT eht tuoba nraeL\n"
     ]
    }
   ],
   "source": [
    "print a_tweet['text']"
   ]
  },
  {
   "cell_type": "markdown",
   "metadata": {},
   "source": [
    "#### What you get"
   ]
  },
  {
   "cell_type": "code",
   "execution_count": 3,
   "metadata": {
    "collapsed": false
   },
   "outputs": [
    {
     "name": "stdout",
     "output_type": "stream",
     "text": [
      "{u'contributors': None,\n",
      " u'coordinates': None,\n",
      " u'created_at': u'Thu Apr 02 06:09:39 +0000 2015',\n",
      " u'entities': {u'hashtags': [],\n",
      "               u'symbols': [],\n",
      "               u'urls': [],\n",
      "               u'user_mentions': []},\n",
      " u'favorite_count': 0,\n",
      " u'favorited': False,\n",
      " u'geo': None,\n",
      " u'id': 583511591334719488,\n",
      " u'id_str': u'583511591334719488',\n",
      " u'in_reply_to_screen_name': None,\n",
      " u'in_reply_to_status_id': None,\n",
      " u'in_reply_to_status_id_str': None,\n",
      " u'in_reply_to_user_id': None,\n",
      " u'in_reply_to_user_id_str': None,\n",
      " u'lang': u'ht',\n",
      " u'place': None,\n",
      " u'retweet_count': 0,\n",
      " u'retweeted': False,\n",
      " u'source': u'<a href=\"http://twitter.com\" rel=\"nofollow\">Twitter Web Client</a>',\n",
      " u'text': u'.IPA rettiwT eht tuoba nraeL',\n",
      " u'truncated': False,\n",
      " u'user': {u'contributors_enabled': False,\n",
      "           u'created_at': u'Thu Apr 02 05:54:25 +0000 2015',\n",
      "           u'default_profile': True,\n",
      "           u'default_profile_image': False,\n",
      "           u'description': u'',\n",
      "           u'entities': {u'description': {u'urls': []}},\n",
      "           u'favourites_count': 0,\n",
      "           u'follow_request_sent': False,\n",
      "           u'followers_count': 0,\n",
      "           u'following': False,\n",
      "           u'friends_count': 0,\n",
      "           u'geo_enabled': False,\n",
      "           u'id': 3129088320,\n",
      "           u'id_str': u'3129088320',\n",
      "           u'is_translation_enabled': False,\n",
      "           u'is_translator': False,\n",
      "           u'lang': u'en',\n",
      "           u'listed_count': 0,\n",
      "           u'location': u'',\n",
      "           u'name': u'Yelekreb Bald',\n",
      "           u'notifications': False,\n",
      "           u'profile_background_color': u'C0DEED',\n",
      "           u'profile_background_image_url': u'http://abs.twimg.com/images/themes/theme1/bg.png',\n",
      "           u'profile_background_image_url_https': u'https://abs.twimg.com/images/themes/theme1/bg.png',\n",
      "           u'profile_background_tile': False,\n",
      "           u'profile_image_url': u'http://pbs.twimg.com/profile_images/583509317476712449/mkd8KGeu_normal.jpg',\n",
      "           u'profile_image_url_https': u'https://pbs.twimg.com/profile_images/583509317476712449/mkd8KGeu_normal.jpg',\n",
      "           u'profile_link_color': u'0084B4',\n",
      "           u'profile_location': None,\n",
      "           u'profile_sidebar_border_color': u'C0DEED',\n",
      "           u'profile_sidebar_fill_color': u'DDEEF6',\n",
      "           u'profile_text_color': u'333333',\n",
      "           u'profile_use_background_image': True,\n",
      "           u'protected': False,\n",
      "           u'screen_name': u'tob_pohskrow',\n",
      "           u'statuses_count': 1,\n",
      "           u'time_zone': None,\n",
      "           u'url': None,\n",
      "           u'utc_offset': None,\n",
      "           u'verified': False}}\n"
     ]
    }
   ],
   "source": [
    "from pprint import pprint\n",
    "\n",
    "pprint(a_tweet)"
   ]
  },
  {
   "cell_type": "markdown",
   "metadata": {},
   "source": [
    "You have access to more than just the text."
   ]
  },
  {
   "cell_type": "markdown",
   "metadata": {},
   "source": [
    "## JSON"
   ]
  },
  {
   "cell_type": "markdown",
   "metadata": {},
   "source": [
    "> JSON (JavaScript Object Notation), specified by RFC 7159 (which obsoletes RFC 4627) and by ECMA-404, is a lightweight data interchange format inspired by JavaScript object literal syntax (although it is not a strict subset of JavaScript)."
   ]
  },
  {
   "cell_type": "markdown",
   "metadata": {},
   "source": [
    "Sure. Think of it like Python's `dict` type. Keys and values, collectively referred to as items, are separated by a colon. Multiple items are separated by commas. Keys must be immutable and unique to a particular `dict`. Values can be of any type, including `list` or even another `dict`. Dictionaries are always surrounded by braces, `{}`."
   ]
  },
  {
   "cell_type": "markdown",
   "metadata": {},
   "source": [
    "So, how can you access data within a Python `dict`? You first need the keys. To get the keys, you must look at the data or use the `.keys()` method, which returns a list of the key names in an arbitrary order."
   ]
  },
  {
   "cell_type": "code",
   "execution_count": 4,
   "metadata": {
    "collapsed": false
   },
   "outputs": [
    {
     "data": {
      "text/plain": [
       "[u'contributors',\n",
       " u'truncated',\n",
       " u'text',\n",
       " u'in_reply_to_status_id',\n",
       " u'id',\n",
       " u'favorite_count',\n",
       " u'source',\n",
       " u'retweeted',\n",
       " u'coordinates',\n",
       " u'entities',\n",
       " u'in_reply_to_screen_name',\n",
       " u'id_str',\n",
       " u'retweet_count',\n",
       " u'in_reply_to_user_id',\n",
       " u'favorited',\n",
       " u'user',\n",
       " u'geo',\n",
       " u'in_reply_to_user_id_str',\n",
       " u'lang',\n",
       " u'created_at',\n",
       " u'in_reply_to_status_id_str',\n",
       " u'place']"
      ]
     },
     "execution_count": 4,
     "metadata": {},
     "output_type": "execute_result"
    }
   ],
   "source": [
    "a_tweet.keys()"
   ]
  },
  {
   "cell_type": "markdown",
   "metadata": {},
   "source": [
    "How about the values? Use the dictionary name along with the key in square brackets. We used this above to access the tweet's text. If you're interested in knowing when the tweet was created, use the following."
   ]
  },
  {
   "cell_type": "code",
   "execution_count": 5,
   "metadata": {
    "collapsed": false
   },
   "outputs": [
    {
     "data": {
      "text/plain": [
       "u'Thu Apr 02 06:09:39 +0000 2015'"
      ]
     },
     "execution_count": 5,
     "metadata": {},
     "output_type": "execute_result"
    }
   ],
   "source": [
    "a_tweet['created_at']"
   ]
  },
  {
   "cell_type": "markdown",
   "metadata": {},
   "source": [
    "Note: This is given in UTC. The offset is shown by the `+0000`."
   ]
  },
  {
   "cell_type": "markdown",
   "metadata": {},
   "source": [
    "The thing about JSON data or Python dictionaries is that they can have a nested structure. What if we want access to the values associated with the `entities` key?"
   ]
  },
  {
   "cell_type": "code",
   "execution_count": 6,
   "metadata": {
    "collapsed": false
   },
   "outputs": [
    {
     "data": {
      "text/plain": [
       "{u'hashtags': [], u'symbols': [], u'urls': [], u'user_mentions': []}"
      ]
     },
     "execution_count": 6,
     "metadata": {},
     "output_type": "execute_result"
    }
   ],
   "source": [
    "a_tweet['entities']"
   ]
  },
  {
   "cell_type": "markdown",
   "metadata": {},
   "source": [
    "It's a dictionary. To access any of _those_ values, use the appropriate key."
   ]
  },
  {
   "cell_type": "code",
   "execution_count": 7,
   "metadata": {
    "collapsed": false
   },
   "outputs": [
    {
     "data": {
      "text/plain": [
       "[]"
      ]
     },
     "execution_count": 7,
     "metadata": {},
     "output_type": "execute_result"
    }
   ],
   "source": [
    "a_tweet['entities']['hashtags']"
   ]
  },
  {
   "cell_type": "markdown",
   "metadata": {},
   "source": [
    "Of course, there are no hashtags associated with this tweet, so it's just an empty `list`."
   ]
  },
  {
   "cell_type": "code",
   "execution_count": 8,
   "metadata": {
    "collapsed": false
   },
   "outputs": [
    {
     "data": {
      "text/plain": [
       "dict"
      ]
     },
     "execution_count": 8,
     "metadata": {},
     "output_type": "execute_result"
    }
   ],
   "source": [
    "type(a_tweet)"
   ]
  },
  {
   "cell_type": "markdown",
   "metadata": {},
   "source": [
    "## Authentication"
   ]
  },
  {
   "cell_type": "markdown",
   "metadata": {},
   "source": [
    "Before you proceed, you'll need four pieces of information.\n",
    "\n",
    "* consumer_key\n",
    "* consumer_secret\n",
    "* access_token_key\n",
    "* access_token_secret\n",
    "\n",
    "While signed in to your Twitter account, go to: https://apps.twitter.com/. Follow the prompts to generate your keys and access tokens. You'll need to have a phone number associated with your account."
   ]
  },
  {
   "cell_type": "markdown",
   "metadata": {},
   "source": [
    "## Accessing the API"
   ]
  },
  {
   "cell_type": "markdown",
   "metadata": {},
   "source": [
    "So, how do we actually access the Twitter API? Well, there are several ways. To search for something, you can use the search URL, which looks like: https://api.twitter.com/1.1/search/tweets.json?q=%40twitterapi. The `q` is the query parameter. You can replace it with anything you want. However, if you follow this link, you'll get an error because your request was not authenticated.\n",
    "\n",
    "For more information on the REST APIs, end points, and terms, check out: https://dev.twitter.com/rest/public. For the Streaming APIs: https://dev.twitter.com/streaming/overview."
   ]
  },
  {
   "cell_type": "markdown",
   "metadata": {},
   "source": [
    "Instead, we'll use Jonas Geduldig's `TwitterAPI` module: https://github.com/geduldig/TwitterAPI. The nice thing about modules such as this one--yes, there are others--is that it handles the OAuth. `TwitterAPI` supports both the REST and Streaming APIs."
   ]
  },
  {
   "cell_type": "markdown",
   "metadata": {},
   "source": [
    "### TwitterAPI"
   ]
  },
  {
   "cell_type": "markdown",
   "metadata": {},
   "source": [
    "To authenticate, run the following code.\n",
    "\n",
    "We've created a Twitter account for this talk. Feel free to use the following keys and access tokens to familiarize yourself with the API. But, be aware that Twitter imposes rate limits.\n",
    "\n",
    "> Search will be rate limited at 180 queries per 15 minute window for the time being, but we may adjust that over time.\n",
    "\n",
    "> \\- Twitter"
   ]
  },
  {
   "cell_type": "code",
   "execution_count": 9,
   "metadata": {
    "collapsed": false
   },
   "outputs": [],
   "source": [
    "from TwitterAPI import TwitterAPI\n",
    "\n",
    "consumer_key = 'xxxxxxxxxx'\n",
    "consumer_secret = 'xxxxxxxxxx'\n",
    "access_token_key = 'xxxxxxxxxx'\n",
    "access_token_secret = 'xxxxxxxxxx'\n",
    "\n",
    "api = TwitterAPI(consumer_key, consumer_secret, access_token_key, access_token_secret)"
   ]
  },
  {
   "cell_type": "markdown",
   "metadata": {},
   "source": [
    "### Search"
   ]
  },
  {
   "cell_type": "markdown",
   "metadata": {},
   "source": [
    "Notice that the end point is the same as in the URL example, `search/tweets`."
   ]
  },
  {
   "cell_type": "markdown",
   "metadata": {},
   "source": [
    "#### Query"
   ]
  },
  {
   "cell_type": "code",
   "execution_count": 10,
   "metadata": {
    "collapsed": false
   },
   "outputs": [
    {
     "name": "stdout",
     "output_type": "stream",
     "text": [
      "RT @MissFifii: My gen basically experienced the last of the oldschool and the beginning of technology.. We're quite lucky\n",
      "\n",
      "RT @LikChan: Great piece on Hidetaka Miyazaki (Souls/Bloodborne) by the @guardian. The quote at the end is priceless. XD http://t.co/gqaYNe…\n",
      "\n",
      "#WHOMADEYOURCLOTHES ? \n",
      "The fashion students from Cape Peninsula University of Technology in Cape Town have been... http://t.co/OtSmIcsdaW\n",
      "\n",
      "#theguardian: China internet regulator slams Google's certificate refusal http://t.co/bBpvQ0Vpil\n",
      "\n",
      "RT @jugander: Spotify's non-uniform shuffle, engineered to \"feel more random to a human\": http://t.co/uXH9iXQL9P\n",
      "\n",
      "I'm at University of Business &amp; Technology (UBT) Girls Campus in Jeddah https://t.co/NsRWeFX2el\n",
      "\n",
      "@TechXplore_com @physorg_com I think this technology is amazing however the potential toxicity of fumes worries me. Need urgent tests.\n",
      "\n",
      "Accra, April 1, GNA - Technology giant Samsung dominated Ghana Energy Commission's recently-released a list of ene… http://t.co/iTWAXDqRSZ\n",
      "\n",
      "RT @Kobusvanwyk: Technology in schools can only succeed if more attention is given to building digital skills among teachers.\n",
      "\n",
      "China internet regulator slams Google's certificate refusal: Move by search engine means warning display could... http://t.co/6ZqGfvB63A\n",
      "\n",
      "@1y1u1y1a うん？ICT(information communication technology)のこと？(就活病)\n",
      "\n",
      "تحديد موعد شهر رمضان 2015 فلكيا\n",
      "اقرأ التفاصيل http://t.co/izHjjJfA2K http://t.co/ijmZtbJeKh\n",
      "\n",
      "RT @ForbesTech: Google's driverless vehicles have already driven hundreds of thousands of miles: http://t.co/08aQHshInI http://t.co/Es1wpOe…\n",
      "\n",
      "RT @TweetsByARob: Mobile Technology in #Transportation Management &amp; The Future Impact on the #SupplyChain w/@Catavolt http://t.co/NBGCMp88JL\n",
      "\n",
      "China internet regulator slams Google's certificate refusal: Move by search engine means warning display could... http://t.co/iTuZL9uWAT\n",
      "\n"
     ]
    }
   ],
   "source": [
    "r = api.request('search/tweets', {'q':'technology'})\n",
    "for item in r:\n",
    "    print item['text'] + '\\n'"
   ]
  },
  {
   "cell_type": "markdown",
   "metadata": {},
   "source": [
    "The API supports what it calls query operators, which modify the search behavior. For example, if you want to search for tweets where a particular user is mentioned, include the at-sign, `@`, followed by the username. To search for tweets sent to a particular user, use `to:username`. For tweets from a particular user, `from:username`. For hashtags, use `#hashtag`.\n",
    "\n",
    "For a complete set of options: https://dev.twitter.com/rest/public/search."
   ]
  },
  {
   "cell_type": "markdown",
   "metadata": {},
   "source": [
    "To make things clearer, let's use variables."
   ]
  },
  {
   "cell_type": "code",
   "execution_count": 11,
   "metadata": {
    "collapsed": false
   },
   "outputs": [
    {
     "name": "stdout",
     "output_type": "stream",
     "text": [
      "RT @googlemaps: Chase those blue ghosts all the way to Giza. Play #PacMaps on #GoogleMaps. http://t.co/iut2yHwlMl\n",
      "\n"
     ]
    }
   ],
   "source": [
    "end_point = 'search/tweets'\n",
    "parameters = {\n",
    "    'q':'from:Google #GoogleMaps', \n",
    "    'count':1\n",
    "}\n",
    "\n",
    "r = api.request(end_point, parameters)\n",
    "for item in r:\n",
    "    print item['text'] + '\\n'"
   ]
  },
  {
   "cell_type": "markdown",
   "metadata": {},
   "source": [
    "#### User"
   ]
  },
  {
   "cell_type": "markdown",
   "metadata": {},
   "source": [
    "You can also search user timelines. Notice the change in the end point and parameter values."
   ]
  },
  {
   "cell_type": "code",
   "execution_count": 12,
   "metadata": {
    "collapsed": false
   },
   "outputs": [
    {
     "name": "stdout",
     "output_type": "stream",
     "text": [
      "#DidYouKnow... both actors who portrayed Sulu on #StarTrek attended UC Berkeley? @GeorgeTakei &amp; @JohnTheCho http://t.co/mOLSS6vRZi #trekkie\n"
     ]
    }
   ],
   "source": [
    "end_point = 'statuses/user_timeline'\n",
    "parameters = {\n",
    "    'screen_name':'UCBerkeley', \n",
    "    'count':1\n",
    "}\n",
    "\n",
    "r = api.request(end_point, parameters)\n",
    "for item in r:\n",
    "    print item['text']"
   ]
  },
  {
   "cell_type": "markdown",
   "metadata": {},
   "source": [
    "#### Location"
   ]
  },
  {
   "cell_type": "code",
   "execution_count": 13,
   "metadata": {
    "collapsed": false
   },
   "outputs": [
    {
     "name": "stdout",
     "output_type": "stream",
     "text": [
      "RT @GarwoodCenter: Rikesh Patel of @Mindteck shares how technology can make for Smarter Cities #UGBA193i #SmartCities #Openinnovation http:…\n"
     ]
    }
   ],
   "source": [
    "end_point = 'search/tweets'\n",
    "parameters = {\n",
    "    'q':'technology',\n",
    "    'geocode':'37.871667,-122.272778,5km', # UC Berkeley\n",
    "    'count':1\n",
    "}\n",
    "\n",
    "r = api.request(end_point, parameters)\n",
    "for item in r:\n",
    "        print item['text']"
   ]
  },
  {
   "cell_type": "markdown",
   "metadata": {},
   "source": [
    "#### Language"
   ]
  },
  {
   "cell_type": "code",
   "execution_count": 14,
   "metadata": {
    "collapsed": false
   },
   "outputs": [
    {
     "name": "stdout",
     "output_type": "stream",
     "text": [
      "Itinéraires des photographes voyageurs. 25e | Itinéraires des Photographes Voyageurs #JaimeTonAsso http://t.co/oFSnmouLxG via @HelloAsso\n"
     ]
    }
   ],
   "source": [
    "end_point = 'search/tweets'\n",
    "parameters = {\n",
    "    'q':'*',\n",
    "    'lang':'fr',\n",
    "    'count':1\n",
    "}\n",
    "\n",
    "r = api.request(end_point, parameters)\n",
    "for item in r:\n",
    "    print item['text']"
   ]
  },
  {
   "cell_type": "markdown",
   "metadata": {},
   "source": [
    "### Streaming"
   ]
  },
  {
   "cell_type": "code",
   "execution_count": 15,
   "metadata": {
    "collapsed": false
   },
   "outputs": [
    {
     "name": "stdout",
     "output_type": "stream",
     "text": [
      "Avaré, São Paulo, Brasil: @Evvuska bo día.\n",
      "teña un gran día.\n",
      "bo festivo.\n",
      "eu aínda traballo hoxe \n",
      "\n",
      "Los Angeles, CA, United States: @ValeryCollins Thanks! Mine is https://t.co/8oPWsWkM07 \n",
      "\n",
      "Manchester, England, United Kingdom: @moorcroftlad got back yesterday. Was with work so no time to tweet. In Portland 10th-16th \n",
      "\n",
      "Parit Tinggi, Negeri Sembilan, Malaysia: @AnisZulkiflee23 haah duit aina pun kurang taktau kenapa... kenapa eh??? \n",
      "\n",
      "北海道 旭川市, 日本: 車できたーテンション上がる〜(￣ー￣)🎶 http://t.co/47bUGt8laH \n",
      "\n",
      "Shibuya, Tokyo, 日本: Beautiful flowers in Yebisu Garden Place. Spring it is. #perrysjapan2015 #pplsolotripat41… https://t.co/fnNaa2S4Kb \n",
      "\n",
      "Москва, Россия, Rossiya: текущий плейлист \n",
      "\n",
      "Montale, Toscana, Italia: Il giorno dopo la corsa: sembro una vecchia di 80 anni con decadimento muscoloscheletrico. #qualcunomiaiutiadalzarmidaletto \n",
      "\n",
      "São Paulo, Brasil, Brasil: @eduardo00697101 @A60774249 @GarciaRego @Josgmelo @mirtacuerva @reginac66472149 AMÉM! Feliz quinta abençoada?🙏👍 \n",
      "\n",
      "Doveridge, England, United Kingdom: Otherwise id be wrong \n",
      "\n",
      "Kuala Kuantan, Pahang, Malaysia: Ya allab..😭😭😭 \n",
      "\n",
      "İnegöl, Bursa, Türkiye: I'm at Pizza House &amp; Coffee Corner in Bursa inegöl w/ @gamzee_krks @miracc07 https://t.co/BA2j6iE88E \n",
      "\n",
      "Altônia, Paraná, Brasil: Pensando seriamente em voltar dormir \n",
      "\n",
      "Donegal, Ireland, Ireland: Meanwhile it's actually summertime now in the Philippines. Oh how cruel! 😢 all the celebs be having their vacay. #sojelly \n",
      "\n",
      "San Martín, Argentina, Argentina: Porque me desperté a esta hora -. \n",
      "\n"
     ]
    }
   ],
   "source": [
    "end_point = 'statuses/filter'\n",
    "parameters = {\n",
    "    'q':'coding',\n",
    "    'locations': '-180,-90,180,90'\n",
    "}\n",
    "\n",
    "r = api.request(end_point, parameters)\n",
    "tweets = r.get_iterator()\n",
    "for i in range(15):\n",
    "    t = tweets.next()\n",
    "    print t['place']['full_name'] + ', ' + t['place']['country'] + ': ' + t['text'], '\\n'"
   ]
  },
  {
   "cell_type": "markdown",
   "metadata": {},
   "source": [
    "### Posting"
   ]
  },
  {
   "cell_type": "markdown",
   "metadata": {},
   "source": [
    "The other half of the game is posting."
   ]
  },
  {
   "cell_type": "code",
   "execution_count": null,
   "metadata": {
    "collapsed": true
   },
   "outputs": [],
   "source": [
    "end_point = 'statuses/update'\n",
    "parameters = {\n",
    "    'status':'.IPA rettiwT eht tuoba nraeL'\n",
    "}\n",
    "\n",
    "r = api.request(end_point, parameters)\n",
    "print r.status_code"
   ]
  },
  {
   "cell_type": "markdown",
   "metadata": {},
   "source": [
    "## Saving Data"
   ]
  },
  {
   "cell_type": "markdown",
   "metadata": {},
   "source": [
    "Output to .json."
   ]
  },
  {
   "cell_type": "markdown",
   "metadata": {},
   "source": [
    "## Scheduling"
   ]
  },
  {
   "cell_type": "markdown",
   "metadata": {},
   "source": [
    "cron"
   ]
  },
  {
   "cell_type": "markdown",
   "metadata": {},
   "source": [
    "## Considerations"
   ]
  },
  {
   "cell_type": "markdown",
   "metadata": {},
   "source": [
    "### Timing"
   ]
  },
  {
   "cell_type": "markdown",
   "metadata": {},
   "source": [
    "## Analyzing"
   ]
  },
  {
   "cell_type": "code",
   "execution_count": null,
   "metadata": {
    "collapsed": true
   },
   "outputs": [],
   "source": []
  }
 ],
 "metadata": {
  "kernelspec": {
   "display_name": "Python 2",
   "language": "python",
   "name": "python2"
  },
  "language_info": {
   "codemirror_mode": {
    "name": "ipython",
    "version": 2
   },
   "file_extension": ".py",
   "mimetype": "text/x-python",
   "name": "python",
   "nbconvert_exporter": "python",
   "pygments_lexer": "ipython2",
   "version": "2.7.9"
  }
 },
 "nbformat": 4,
 "nbformat_minor": 0
}
